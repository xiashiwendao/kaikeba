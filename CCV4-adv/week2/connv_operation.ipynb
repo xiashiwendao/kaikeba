{
 "cells": [
  {
   "cell_type": "markdown",
   "metadata": {},
   "source": [
    "# 卷积操作"
   ]
  },
  {
   "cell_type": "markdown",
   "metadata": {},
   "source": [
    "## Tensorflow卷积操作"
   ]
  },
  {
   "cell_type": "markdown",
   "metadata": {},
   "source": [
    "### 原始结果错误的定义"
   ]
  },
  {
   "cell_type": "code",
   "execution_count": 84,
   "metadata": {
    "tags": []
   },
   "outputs": [
    {
     "output_type": "stream",
     "name": "stdout",
     "text": "conv result:  Tensor(\"Conv2D_59:0\", shape=(1, 1, 3, 2), dtype=float32)\nconv result:  [[[[ 56.  52.]\n   [ 36.  65.]\n   [-27. -27.]]]]\n"
    }
   ],
   "source": [
    "import numpy as np\n",
    "import tensorflow as tf\n",
    "\n",
    "m = np.array([[[[2,6,7],[5,1,9],[2,-1,-5]]]],dtype=np.float)\n",
    "# m = np.array([[[[2,5,2],[6,1,-1],[7,9,-5]]]],dtype=np.float)\n",
    "# print(m)\n",
    "n = np.array([[[[-1,2],[5,1],[4,6]]]], dtype=np.float)\n",
    "# n = np.array([[[[-1,5,4],[2,1,6]]]], dtype=np.float)\n",
    "input_data = tf.Variable(m, dtype=np.float)\n",
    "filter_data = tf.Variable(n, dtype=np.float)\n",
    "# p = tf.nn.conv2d(m.T, n, strides=[1,1,1,1], padding=\"SAME\")\n",
    "p = tf.nn.conv2d(input_data, filter_data, strides=[1,1], padding=\"SAME\")\n",
    "print(\"conv result: \", p)\n",
    "\n",
    "with tf.Session() as sess:\n",
    "    tf.global_variables_initializer().run(session=sess)\n",
    "    sess.run(p)\n",
    "    print(\"conv result: \", p.eval())"
   ]
  },
  {
   "cell_type": "markdown",
   "metadata": {},
   "source": [
    "### 基于维度的修改\n",
    "#### 在助教启发下，了解了tensor4个维度的意义：batch, height, width, deep，另外在参考别处代码的时候，发现kenerl的顺序是：shape=[kh,kw,n_in,n_out]，其中n_in=input_op.get_shape()[-1].value\n"
   ]
  },
  {
   "cell_type": "code",
   "execution_count": 104,
   "metadata": {
    "tags": []
   },
   "outputs": [
    {
     "output_type": "stream",
     "name": "stdout",
     "text": "m.shape:  (1, 3, 1, 3)\nn.shape:  (1, 2, 1, 3)\nconv result:  Tensor(\"Conv2D_67:0\", shape=(1, 3, 1, 3), dtype=float32)\nconv result:  [[[[ -2.  25.   8.]]\n\n  [[ -6.   5.  -4.]]\n\n  [[ -7.  45. -20.]]]]\n"
    }
   ],
   "source": [
    "import numpy as np\n",
    "\n",
    "# m = np.random.rand(1,3,1,3)\n",
    "n = np.random.rand(1, 2, 1, 3)\n",
    "# print(m)\n",
    "# m = np.array([[[[2,6,7]],[[5,1,9]],[[2,-1,-5]]]],dtype=np.float)\n",
    "m = np.array([[[[2,5,2]],[[6,1,-1]],[[7,9,-5]]]],dtype=np.float)\n",
    "print(\"m.shape: \", m.shape)\n",
    "n = np.array([[[[-1,5,4]],[[2,1,6]]]], dtype=np.float)\n",
    "print(\"n.shape: \", n.shape)\n",
    "# n = np.array([[[[-1,5,4],[2,1,6]]]], dtype=np.float)\n",
    "input_data = tf.Variable(m, dtype=np.float)\n",
    "filter_data = tf.Variable(n, dtype=np.float)\n",
    "# p = tf.nn.conv2d(m.T, n, strides=[1,1,1,1], padding=\"SAME\")\n",
    "p = tf.nn.conv2d(input_data, filter_data, strides=[1,1], padding=\"SAME\")\n",
    "print(\"conv result: \", p)\n",
    "\n",
    "with tf.Session() as sess:\n",
    "    tf.global_variables_initializer().run(session=sess)\n",
    "    sess.run(p)\n",
    "    print(\"conv result: \", p.eval())"
   ]
  },
  {
   "cell_type": "markdown",
   "metadata": {},
   "source": [
    "### 简单卷积"
   ]
  },
  {
   "cell_type": "code",
   "execution_count": null,
   "metadata": {},
   "outputs": [],
   "source": [
    "import numpy as np\n",
    "\n",
    "# m = np.random.rand(1,3,1,3)\n",
    "n = np.random.rand(1, 2, 1, 3)\n",
    "# print(m)\n",
    "# m = np.array([[[[2,6,7]],[[5,1,9]],[[2,-1,-5]]]],dtype=np.float)\n",
    "m = np.array([[[[2,5,2]],[[6,1,-1]],[[7,9,-5]]]],dtype=np.float)\n",
    "print(\"m.shape: \", m.shape)\n",
    "n = np.array([[[[-1,5,4]],[[2,1,6]]]], dtype=np.float)\n",
    "print(\"n.shape: \", n.shape)\n",
    "# n = np.array([[[[-1,5,4],[2,1,6]]]], dtype=np.float)\n",
    "input_data = tf.Variable(m, dtype=np.float)\n",
    "filter_data = tf.Variable(n, dtype=np.float)\n",
    "# p = tf.nn.conv2d(m.T, n, strides=[1,1,1,1], padding=\"SAME\")\n",
    "p = tf.nn.conv2d(input_data, filter_data, strides=[1,1], padding=\"SAME\")\n",
    "print(\"conv result: \", p)\n",
    "\n",
    "with tf.Session() as sess:\n",
    "    tf.global_variables_initializer().run(session=sess)\n",
    "    sess.run(p)\n",
    "    print(\"conv result: \", p.eval())"
   ]
  },
  {
   "cell_type": "code",
   "execution_count": 99,
   "metadata": {
    "tags": []
   },
   "outputs": [
    {
     "output_type": "stream",
     "name": "stdout",
     "text": "m:\n [[[[0.10432338 0.35168747 0.78435299]\n   [0.06552401 0.96728397 0.07425476]\n   [0.52219242 0.12154562 0.77048187]]]]\nn:\n [[[[0.74790435 0.14675966 0.33817268]\n   [0.41021468 0.02811123 0.72906948]]]]\n"
    }
   ],
   "source": [
    "import numpy as np\n",
    "\n",
    "m = np.random.rand(1,3,1,1)\n",
    "n = np.random.rand(1, 1, 2, 1)\n",
    "print(\"m:\\n\",m)\n",
    "print(\"n:\\n\",n)"
   ]
  },
  {
   "cell_type": "markdown",
   "metadata": {},
   "source": [
    "## pytorch卷积操作"
   ]
  },
  {
   "cell_type": "code",
   "execution_count": 15,
   "metadata": {},
   "outputs": [
    {
     "name": "stdout",
     "output_type": "stream",
     "text": [
      "Conv2d(1, 1, kernel_size=(2, 2), stride=(2, 2), padding=(1, 1))\n",
      "tensor([[[[ 0.2990,  0.5587,  0.6199],\n",
      "          [ 0.2107,  0.2047,  1.7539],\n",
      "          [ 0.2545, -0.6801,  1.1945]]]], grad_fn=<MkldnnConvolutionBackward>)\n"
     ]
    }
   ],
   "source": [
    "import torch.nn as nn\n",
    "import torch\n",
    " \n",
    " \n",
    "im = torch.randn(1, 1, 5, 5)\n",
    "# print(im)\n",
    "\n",
    "c = nn.Conv2d(1, 1, kernel_size=2, stride=2, padding=1)\n",
    "output = c(im)\n",
    " \n",
    "print(c)\n",
    "print(output)"
   ]
  },
  {
   "cell_type": "markdown",
   "metadata": {},
   "source": [
    "# 实现经典网络"
   ]
  },
  {
   "cell_type": "markdown",
   "metadata": {},
   "source": [
    "## LE-NET-5"
   ]
  },
  {
   "cell_type": "code",
   "execution_count": 1,
   "metadata": {
    "tags": []
   },
   "outputs": [
    {
     "output_type": "stream",
     "name": "stdout",
     "text": "WARNING:tensorflow:From <ipython-input-1-0a3228ca0f2e>:3: read_data_sets (from inputdata) is deprecated and will be removed in a future version.\nInstructions for updating:\nPlease use alternatives such as: tensorflow_datasets.load('mnist')\nWARNING:tensorflow:From c:\\Users\\Lorry\\MySpace\\code_Space\\learn_kaikeba\\CCV4-adv\\week2\\inputdata.py:289: _extract_images (from inputdata) is deprecated and will be removed in a future version.\nInstructions for updating:\nPlease use tf.data to implement this functionality.\nExtracting MNIST_data/train-images-idx3-ubyte.gz\nWARNING:tensorflow:From c:\\Users\\Lorry\\MySpace\\code_Space\\learn_kaikeba\\CCV4-adv\\week2\\inputdata.py:295: _extract_labels (from inputdata) is deprecated and will be removed in a future version.\nInstructions for updating:\nPlease use tf.data to implement this functionality.\nExtracting MNIST_data/train-labels-idx1-ubyte.gz\nWARNING:tensorflow:From c:\\Users\\Lorry\\MySpace\\code_Space\\learn_kaikeba\\CCV4-adv\\week2\\inputdata.py:105: _dense_to_one_hot (from inputdata) is deprecated and will be removed in a future version.\nInstructions for updating:\nPlease use tf.one_hot on tensors.\nExtracting MNIST_data/t10k-images-idx3-ubyte.gz\nExtracting MNIST_data/t10k-labels-idx1-ubyte.gz\nWARNING:tensorflow:From c:\\Users\\Lorry\\MySpace\\code_Space\\learn_kaikeba\\CCV4-adv\\week2\\inputdata.py:321: _DataSet.__init__ (from inputdata) is deprecated and will be removed in a future version.\nInstructions for updating:\nPlease use alternatives such as official/mnist/_DataSet.py from tensorflow/models.\n"
    }
   ],
   "source": [
    "import tensorflow as tf\n",
    "from inputdata import read_data_sets\n",
    "mnist = read_data_sets(\"MNIST_data/\", one_hot=True)\n",
    "\n",
    "#标准差为0.1的正态分布\n",
    "def weight_variable(shape):\n",
    "    initial = tf.truncated_normal(shape,stddev=0.1)\n",
    "    return tf.Variable(initial)\n",
    "\n",
    "#0.1的偏差常数，为了避免死亡节点\n",
    "def bias_variable(shape):\n",
    "    initial = tf.constant(0.1, shape=shape)\n",
    "    return tf.Variable(initial)\n",
    "\n",
    "#二维卷积函数\n",
    "#strides代表卷积模板移动的步长，全是1代表走过所有的值\n",
    "#padding设为SAME意思是保持输入输出的大小一样，使用全0补充\n",
    "def conv2d(x,W):\n",
    "    return tf.nn.conv2d(x,W,strides=[1,1,1,1],padding='SAME')\n",
    "\n",
    "#ksize [1, height, width, 1] 第一个和最后一个代表对batches和channel做池化，1代表不池化\n",
    "#strides [1, stride,stride, 1]意思是步长为2，我们使用的最大池化\n",
    "def max_pool_2x2(x):\n",
    "    return tf.nn.max_pool(x,ksize=[1,2,2,1], strides=[1,2,2,1],padding='SAME')\n",
    "\n",
    "x = tf.placeholder(tf.float32, [None,784])\n",
    "y_ = tf.placeholder(tf.float32, [None,10])\n",
    "#reshape图片成28 * 28 大小，-1代表样本数量不固定，1代表channel\n",
    "x_image=tf.reshape(x,[-1,28,28,1])"
   ]
  },
  {
   "cell_type": "code",
   "execution_count": 2,
   "metadata": {
    "tags": []
   },
   "outputs": [
    {
     "output_type": "stream",
     "name": "stdout",
     "text": "WARNING:tensorflow:From <ipython-input-2-41f0eb7817a7>:20: calling dropout (from tensorflow.python.ops.nn_ops) with keep_prob is deprecated and will be removed in a future version.\nInstructions for updating:\nPlease use `rate` instead of `keep_prob`. Rate should be set to `rate = 1 - keep_prob`.\n"
    }
   ],
   "source": [
    "#前面两个5代表卷积核的尺寸，1代表channel，32代表深度\n",
    "W_conv1 = weight_variable([5,5,1,32])\n",
    "b_conv1 = bias_variable([32])\n",
    "h_conv1 = tf.nn.relu(conv2d(x_image,W_conv1)+b_conv1)\n",
    "p_conv1 = max_pool_2x2(h_conv1) \n",
    "\n",
    "W_conv2 = weight_variable([5,5,32,64])\n",
    "b_conv2 = bias_variable([64])\n",
    "h_conv2 = tf.nn.relu(conv2d(p_conv1,W_conv2)+b_conv2)\n",
    "p_conv2 = max_pool_2x2(h_conv2) \n",
    "\n",
    "#输入为7 * 7 * 64， 输出为1024的一维向量\n",
    "W_fc1 = weight_variable([7*7*64,1024])\n",
    "b_fc1 = bias_variable([1024])\n",
    "h_pool2_flat = tf.reshape(p_conv2,[-1,7*7*64])\n",
    "h_fc1 = tf.nn.relu(tf.matmul(h_pool2_flat,W_fc1)+b_fc1)\n",
    "\n",
    "# dropout\n",
    "keep_prob = tf.placeholder(tf.float32)\n",
    "h_fc1_drop = tf.nn.dropout(h_fc1,keep_prob)\n",
    "\n",
    "# softmax\n",
    "W_fc2 = weight_variable([1024,10])\n",
    "b_fc2 = bias_variable([10])\n",
    "y_conv = tf.nn.softmax(tf.matmul(h_fc1_drop,W_fc2) + b_fc2)\n",
    "\n",
    "# 交叉熵\n",
    "cross_entropy = tf.reduce_mean(-tf.reduce_sum(y_ * tf.log(y_conv),reduction_indices=[1]))\n",
    "#参数优化器Adam代替梯度递减，当然都可以使用，这里只是用一个和以前不一样的\n",
    "train_step=tf.train.AdamOptimizer(1e-4).minimize(cross_entropy)"
   ]
  },
  {
   "cell_type": "code",
   "execution_count": 3,
   "metadata": {},
   "outputs": [],
   "source": [
    "# 正确的预测结果\n",
    "correct_prediction = tf.equal(tf.argmax(y_conv, 1), tf.argmax(y_, 1))\n",
    "# 计算预测准确率\n",
    "accuracy = tf.reduce_mean(tf.cast(correct_prediction, tf.float32))"
   ]
  },
  {
   "cell_type": "code",
   "execution_count": 5,
   "metadata": {
    "tags": []
   },
   "outputs": [
    {
     "output_type": "stream",
     "name": "stdout",
     "text": "step 0, tranning accuracy 0.1:\nstep 100, tranning accuracy 0.84:\nstep 200, tranning accuracy 0.92:\nstep 300, tranning accuracy 0.96:\nstep 400, tranning accuracy 0.96:\nstep 500, tranning accuracy 0.96:\nstep 600, tranning accuracy 0.96:\nstep 700, tranning accuracy 0.98:\nstep 800, tranning accuracy 0.88:\nstep 900, tranning accuracy 0.98:\nstep 1000, tranning accuracy 0.96:\nstep 1100, tranning accuracy 0.92:\nstep 1200, tranning accuracy 0.98:\nstep 1300, tranning accuracy 0.94:\nstep 1400, tranning accuracy 1:\nstep 1500, tranning accuracy 1:\nstep 1600, tranning accuracy 0.98:\nstep 1700, tranning accuracy 0.98:\nstep 1800, tranning accuracy 1:\nstep 1900, tranning accuracy 0.98:\nModel accuracy:  0.9806\n"
    }
   ],
   "source": [
    "# 训练\n",
    "# tf.global_variables_initilizer().run()\n",
    "sess = tf.Session()\n",
    "tf.global_variables_initializer().run(session=sess)\n",
    "for i in range(2000):\n",
    "  batch = mnist.train.next_batch(50)\n",
    "  #每一百次打印一次结果,keep_prob设为1意思是用原数据进行检测，所以保留所有数据\n",
    "  if(i%100==0):\n",
    "    train_acuracy = accuracy.eval(feed_dict={x:batch[0],y_:batch[1],keep_prob:1.0}, session=sess)\n",
    "    print(\"step %d, tranning accuracy %g:\"%(i,train_acuracy))\n",
    "  train_step.run(feed_dict={x:batch[0],y_:batch[1],keep_prob:0.5}, session=sess)\n",
    "\n",
    "eval_val=accuracy.eval(feed_dict={x:mnist.test.images,y_:mnist.test.labels,keep_prob:1.0}, session=sess)\n",
    "#训练结束后，在测试集上进行测试\n",
    "# print(\"Model accuracy: \", accuracy.eval(feed.dict={x:mnist.test.images,y_:mnist.test.labels,keep_prob:1.0}))\n",
    "print(\"Model accuracy: \", eval_val)"
   ]
  },
  {
   "cell_type": "code",
   "execution_count": null,
   "metadata": {},
   "outputs": [],
   "source": []
  }
 ],
 "metadata": {
  "kernelspec": {
   "display_name": "Python 3",
   "language": "python",
   "name": "python3"
  },
  "language_info": {
   "codemirror_mode": {
    "name": "ipython",
    "version": 3
   },
   "file_extension": ".py",
   "mimetype": "text/x-python",
   "name": "python",
   "nbconvert_exporter": "python",
   "pygments_lexer": "ipython3",
   "version": "3.6.7-final"
  }
 },
 "nbformat": 4,
 "nbformat_minor": 4
}